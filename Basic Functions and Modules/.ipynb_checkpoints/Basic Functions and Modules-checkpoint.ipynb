{
 "cells": [
  {
   "cell_type": "markdown",
   "metadata": {},
   "source": [
    "# Basic Functions, Data Type and Modules\n",
    "\n",
    "------------------------"
   ]
  },
  {
   "cell_type": "markdown",
   "metadata": {},
   "source": [
    "## itertools \n",
    "\n",
    "Functions creating iterators for efficient looping."
   ]
  },
  {
   "cell_type": "markdown",
   "metadata": {},
   "source": [
    "* ### product, permutations and combinations\n",
    "\n",
    "These functions can generate pairs of given iterables.\n",
    "\n",
    "For example, given a list [1, 2, 3, 4]\n",
    "\n",
    "For product function, will get the following pairs with the code `\" for pair in itertools.product(list, repeat=2) \"`\n",
    "\n",
    "| 1,1 | 1,2 | 1,3 | 1,4 |\n",
    "\n",
    "| 2,1 | 2,2 | 2,3 | 2,4 |\n",
    "\n",
    "| 3,1 | 3,2 | 3,3 | 3,4 |\n",
    "\n",
    "| 4,1 | 4,2 | 4,3 | 4,4 |\n",
    "\n",
    "For permutations function, will get the following pairs with the code `\" for pair in itertools.permutations(list, r=2) \"`\n",
    "\n",
    "| ... | 1,2 | 1,3 | 1,4 |\n",
    "\n",
    "| 2,1 | ... | 2,3 | 2,4 |\n",
    "\n",
    "| 3,1 | 3,2 | ... | 3,4 |\n",
    "\n",
    "| 4,1 | 4,2 | 4,3 | ... |\n",
    "\n",
    "For combinations function, will get the following pairs with the code `\" for pair in itertools.combinations(list, r=2) \"`\n",
    "\n",
    "| ... | 1,2 | 1,3 | 1,4 |\n",
    "\n",
    "| ... | ... | 2,3 | 2,4 |\n",
    "\n",
    "| ... | ... | ... | 3,4 |\n",
    "\n",
    "| ... | ... | ... | ... |"
   ]
  }
 ],
 "metadata": {
  "anaconda-cloud": {},
  "kernelspec": {
   "display_name": "Python [default]",
   "language": "python",
   "name": "python3"
  },
  "language_info": {
   "codemirror_mode": {
    "name": "ipython",
    "version": 3
   },
   "file_extension": ".py",
   "mimetype": "text/x-python",
   "name": "python",
   "nbconvert_exporter": "python",
   "pygments_lexer": "ipython3",
   "version": "3.5.2"
  }
 },
 "nbformat": 4,
 "nbformat_minor": 1
}
